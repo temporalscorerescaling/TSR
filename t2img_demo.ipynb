{
 "cells": [
  {
   "cell_type": "markdown",
   "id": "babcb9b6",
   "metadata": {},
   "source": [
    "# Temporal Score Rescaling Code Demo\n",
    "\n",
    "\n",
    "This notebook demonstrates the usage of TSR schedulers. While we show simple examples with Stable Diffusion 3 and Stable Diffusion 2, the scheduler classes are compatible to any diffusion and flow models implemented in the diffusers framework.\n",
    "\n",
    "Requires installing Diffusers before running."
   ]
  },
  {
   "cell_type": "code",
   "execution_count": null,
   "id": "bdb01ffc",
   "metadata": {},
   "outputs": [],
   "source": [
    "import torch\n",
    "from diffusers import StableDiffusion3Pipeline, StableDiffusionPipeline\n",
    "from diffusers.schedulers import FlowMatchEulerDiscreteScheduler, DDIMScheduler\n",
    "from TSR_diffusers.TSR_schedulers import TSR_FlowEulerScheduler, TSR_DDIMScheduler\n",
    "\n",
    "device = torch.device(\"cuda\")\n",
    "model_id = \"stabilityai/stable-diffusion-3-medium-diffusers\"\n",
    "\n",
    "orig_scheduler = FlowMatchEulerDiscreteScheduler.from_pretrained(model_id, subfolder=\"scheduler\")\n",
    "scheduler = TSR_FlowEulerScheduler.from_config(orig_scheduler.config, k=1.0, psr_sigma=1.0, orig_scheduler=orig_scheduler)\n",
    "pipe = StableDiffusion3Pipeline.from_pretrained(\n",
    "    model_id,\n",
    "    text_encoder_3=None, # Disabling T5 for efficiency\n",
    "    tokenizer_3=None,\n",
    "    torch_dtype=torch.float16,    \n",
    ").to(device)\n",
    "pipe.scheduler = scheduler\n",
    "\n"
   ]
  },
  {
   "cell_type": "code",
   "execution_count": null,
   "id": "836cbfa8",
   "metadata": {},
   "outputs": [],
   "source": [
    "torch.manual_seed(42)\n",
    "init_noises = torch.randn([1, 16, 128, 128], device=device, dtype=torch.float16)\n",
    "\n",
    "prompt = \"A photo of a corgi\"\n",
    "negative_prompt = \"\"\n",
    "\n",
    "pipe.scheduler.k = 0.95 # explore different values!\n",
    "pipe.scheduler.psr_sigma = 1.0\n",
    "\n",
    "with torch.no_grad():\n",
    "    image = pipe(\n",
    "        latents=init_noises,\n",
    "        prompt=prompt,\n",
    "        negative_prompt=negative_prompt,\n",
    "        num_inference_steps=30,\n",
    "        num_images_per_prompt=1,\n",
    "        height=1024,\n",
    "        width=1024,\n",
    "        guidance_scale=7.5,\n",
    "    ).images\n",
    "\n",
    "image[0]"
   ]
  },
  {
   "cell_type": "code",
   "execution_count": null,
   "id": "cac94808",
   "metadata": {},
   "outputs": [],
   "source": [
    "repo_id = \"stabilityai/stable-diffusion-2-base\"\n",
    "orig_scheduler = DDIMScheduler.from_pretrained(repo_id, subfolder=\"scheduler\")\n",
    "scheduler = TSR_DDIMScheduler.from_config(orig_scheduler.config, k=1.0, psr_sigma=1.0, orig_scheduler=orig_scheduler)\n",
    "pipe = StableDiffusionPipeline.from_pretrained(\n",
    "    repo_id,\n",
    "    torch_dtype=torch.float16,    \n",
    ").to(device)\n",
    "pipe.scheduler = scheduler\n"
   ]
  },
  {
   "cell_type": "code",
   "execution_count": null,
   "id": "8e876865",
   "metadata": {},
   "outputs": [],
   "source": [
    "torch.manual_seed(0)\n",
    "init_noises = torch.randn([1,4,64,64], device=device, dtype=pipe.dtype)\n",
    "\n",
    "prompt = \"A photo of a mountain under the starry night\"\n",
    "negative_prompt = \"\"\n",
    "\n",
    "pipe.scheduler.k = 0.95 # explore different values!\n",
    "pipe.scheduler.psr_sigma = 1.0\n",
    "\n",
    "with torch.no_grad():\n",
    "    image = pipe(\n",
    "        latents=init_noises,\n",
    "        prompt=prompt,\n",
    "        negative_prompt=negative_prompt,\n",
    "        num_inference_steps=50,\n",
    "        num_images_per_prompt=1,\n",
    "        guidance_scale=7.5,\n",
    "    ).images\n",
    "\n",
    "image[0]"
   ]
  }
 ],
 "metadata": {
  "kernelspec": {
   "display_name": "diffuser",
   "language": "python",
   "name": "python3"
  },
  "language_info": {
   "codemirror_mode": {
    "name": "ipython",
    "version": 3
   },
   "file_extension": ".py",
   "mimetype": "text/x-python",
   "name": "python",
   "nbconvert_exporter": "python",
   "pygments_lexer": "ipython3",
   "version": "3.9.0"
  }
 },
 "nbformat": 4,
 "nbformat_minor": 5
}
